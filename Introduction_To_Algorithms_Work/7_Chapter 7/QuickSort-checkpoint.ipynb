{
 "cells": [
  {
   "cell_type": "markdown",
   "metadata": {},
   "source": [
    "# Quicksort"
   ]
  },
  {
   "cell_type": "code",
   "execution_count": 1,
   "metadata": {},
   "outputs": [
    {
     "data": {
      "text/html": [
       "<style>\n",
       "  table {margin-left: 0 !important;}\n",
       "</style>\n"
      ],
      "text/plain": [
       "<IPython.core.display.HTML object>"
      ]
     },
     "metadata": {},
     "output_type": "display_data"
    }
   ],
   "source": [
    "%%html\n",
    "<style>\n",
    "  table {margin-left: 0 !important;}\n",
    "</style>"
   ]
  },
  {
   "cell_type": "code",
   "execution_count": 7,
   "metadata": {},
   "outputs": [
    {
     "name": "stdout",
     "output_type": "stream",
     "text": [
      "Quicksort Level = 0 array =\n",
      "[2, 8, 7, 1, 3, 5, 6, 4]\n",
      "\n",
      "Partition\n",
      "[2, 8, 7, 1, 3, 5, 6, 4]\n",
      "[2, 8, 7, 1, 3, 5, 6, 4]\n",
      "[2, 8, 7, 1, 3, 5, 6, 4]\n",
      "[2, 8, 7, 1, 3, 5, 6, 4]\n",
      "[2, 1, 7, 8, 3, 5, 6, 4]\n",
      "[2, 1, 3, 8, 7, 5, 6, 4]\n",
      "[2, 1, 3, 8, 7, 5, 6, 4]\n",
      "[2, 1, 3, 8, 7, 5, 6, 4]\n",
      "[2, 1, 3, 4, 7, 5, 6, 8]\n",
      "\n",
      "Quicksort array after partition step\n",
      "[2, 1, 3, 4, 7, 5, 6, 8]\n",
      "\n",
      "Quicksort Level = 1 array =\n",
      "[2, 1, 3, 4, 7, 5, 6, 8]\n",
      "\n",
      "Partition\n",
      "[2, 1, 3, 4, 7, 5, 6, 8]\n",
      "[2, 1, 3, 4, 7, 5, 6, 8]\n",
      "[2, 1, 3, 4, 7, 5, 6, 8]\n",
      "[2, 1, 3, 4, 7, 5, 6, 8]\n",
      "\n",
      "Quicksort array after partition step\n",
      "[2, 1, 3, 4, 7, 5, 6, 8]\n",
      "\n",
      "Quicksort Level = 2 array =\n",
      "[2, 1, 3, 4, 7, 5, 6, 8]\n",
      "\n",
      "Partition\n",
      "[2, 1, 3, 4, 7, 5, 6, 8]\n",
      "[2, 1, 3, 4, 7, 5, 6, 8]\n",
      "[1, 2, 3, 4, 7, 5, 6, 8]\n",
      "\n",
      "Quicksort array after partition step\n",
      "[1, 2, 3, 4, 7, 5, 6, 8]\n",
      "\n",
      "Quicksort Level = 3 array =\n",
      "[1, 2, 3, 4, 7, 5, 6, 8]\n",
      "Quicksort Level = 3 array =\n",
      "[1, 2, 3, 4, 7, 5, 6, 8]\n",
      "Iterator = 1\n",
      "Quicksort Level = 2 array =\n",
      "[1, 2, 3, 4, 7, 5, 6, 8]\n",
      "Iterator = 2\n",
      "Quicksort Level = 1 array =\n",
      "[1, 2, 3, 4, 7, 5, 6, 8]\n",
      "\n",
      "Partition\n",
      "[1, 2, 3, 4, 7, 5, 6, 8]\n",
      "[1, 2, 3, 4, 7, 5, 6, 8]\n",
      "[1, 2, 3, 4, 7, 5, 6, 8]\n",
      "[1, 2, 3, 4, 7, 5, 6, 8]\n",
      "[1, 2, 3, 4, 7, 5, 6, 8]\n",
      "\n",
      "Quicksort array after partition step\n",
      "[1, 2, 3, 4, 7, 5, 6, 8]\n",
      "\n",
      "Quicksort Level = 2 array =\n",
      "[1, 2, 3, 4, 7, 5, 6, 8]\n",
      "\n",
      "Partition\n",
      "[1, 2, 3, 4, 7, 5, 6, 8]\n",
      "[1, 2, 3, 4, 7, 5, 6, 8]\n",
      "[1, 2, 3, 4, 5, 7, 6, 8]\n",
      "[1, 2, 3, 4, 5, 6, 7, 8]\n",
      "\n",
      "Quicksort array after partition step\n",
      "[1, 2, 3, 4, 5, 6, 7, 8]\n",
      "\n",
      "Quicksort Level = 3 array =\n",
      "[1, 2, 3, 4, 5, 6, 7, 8]\n",
      "Quicksort Level = 3 array =\n",
      "[1, 2, 3, 4, 5, 6, 7, 8]\n",
      "Iterator = 3\n",
      "Quicksort Level = 2 array =\n",
      "[1, 2, 3, 4, 5, 6, 7, 8]\n",
      "Iterator = 4\n",
      "Iterator = 5\n",
      "[1, 2, 3, 4, 5, 6, 7, 8]\n"
     ]
    }
   ],
   "source": [
    "import numpy as np\n",
    "\n",
    "def Printif(printyn,message):\n",
    "    if printyn==1:\n",
    "        print(message)\n",
    "\n",
    "iterator,Level = 0,-1\n",
    "\n",
    "def Partition(array,start,end,printyn=1):\n",
    "    Printif(printyn,'Partition')\n",
    "    i = start-1\n",
    "    x = array[end]\n",
    "    Printif(printyn,array)\n",
    "    for j in range(start,end):\n",
    "        if array[j]<=x:\n",
    "            i +=1\n",
    "            array[i],array[j] = array[j],array[i]\n",
    "        Printif(printyn,array)\n",
    "    array[i+1],array[end]=array[end],array[i+1]\n",
    "    Printif(printyn,array)\n",
    "    Printif(printyn,'')\n",
    "    \n",
    "    #Could write \"return i+1, array\" however the array is already updated\n",
    "    return i+1\n",
    "\n",
    "\n",
    "\n",
    "def QuickSort(array,start,end,printyn=1):\n",
    "    \n",
    "    #To help understand how it works\n",
    "    global iterator,Level\n",
    "    Level += 1\n",
    "    Printif(printyn,'Quicksort Level = '+ str(Level) + ' array =')\n",
    "    Printif(printyn,array)\n",
    "    \n",
    "    \n",
    "    if start<end:\n",
    "        print('')\n",
    "        q = Partition(array,start,end,printyn)\n",
    "        print('Quicksort array after partition step')\n",
    "        Printif(printyn,array)\n",
    "        Printif(printyn,'')\n",
    "        \n",
    "        QuickSort(array,start,q-1,printyn)\n",
    "        QuickSort(array,q+1,end,printyn)\n",
    "        \n",
    "        #To help understand how it works\n",
    "        iterator += 1\n",
    "        Printif(printyn,'Iterator = ' + str(iterator))\n",
    "    \n",
    "    Level += -1\n",
    "    \n",
    "    return array\n",
    "\n",
    "\n",
    "SortThisArray = [2,8,7,1,3,5,6,4]\n",
    "\n",
    "print(QuickSort(SortThisArray,0,len(SortThisArray)-1))\n",
    "            \n",
    "            "
   ]
  },
  {
   "cell_type": "markdown",
   "metadata": {},
   "source": [
    "## Ex7.1-1 - Using Figure 7.1 as a model, illustrate the operation of PARTITION on the array <br> A = [19, 9, 5, 12, 8, 7, 4, 21, 2, 6, 11]\n"
   ]
  },
  {
   "cell_type": "markdown",
   "metadata": {},
   "source": [
    "Pivot $ = 11$\n",
    "$i = -1$\n",
    "\n",
    "| i | j | A[i] | A[j] | is A[j]<=x? | New i  | Swop  |Array| Notes |\n",
    "| :- | :- | :- | :- | :- | :- | :- | :- | :- |\n",
    "| -1 | NA | NA | NA | NA | NA  | NA |[19, 9, 5, 12, 8, 7, 4, 21, 2, 6, 11]| Start |\n",
    "| -1 | 0 | NA | 19 | No | NA  | NA  |[19, 9, 5, 12, 8, 7, 4, 21, 2, 6, 11]| No |\n",
    "| -1 | 1| NA | 9 | Yes | 0  | 9 with 19  |[9, 19, 5, 12, 8, 7, 4, 21, 2, 6, 11]| 9 with 19 |\n",
    "| 0 | 2 | 9 | 5 | Yes | 1  | 5 with 19  |[9, 5, 19, 12, 8, 7, 4, 21, 2, 6, 11]| 5 with 19 |\n",
    "| 1 | 3 | 2 | 12 | No | 1 | NA  |[9, 5, 19, 12, 8, 7, 4, 21, 2, 6, 11]| No |\n",
    "| 1 | 4 | 1 | 8 | Yes | 2  | 8 with 19   |[9, 5, 8, 12, 19, 7, 4, 21, 2, 6, 11]| 8 with 19 |\n",
    "| 2 | 5 | 3 | 7 | Yes | 3  | 7 with 12  |[9, 5, 8, 7, 4, 12, 19, 21, 2, 6, 11]| 7 with 12 |\n",
    "| 3 | 6 | 3 | 4 | Yes | 4  | 4 with 19  |[9, 5, 8, 7, 4, 12, 19, 21, 2, 6, 11]| 4 with 19 |\n",
    "| 4 | 7 | 3 | 21 | No | 4  | NA  |[9, 5, 8, 7, 4, 12, 19, 21, 2, 6, 11]| No |\n",
    "| 4 | 8 | 3 | 2 | Yes | 5  | 2 with 12  |[9, 5, 8, 7, 4, 2, 19, 21, 12, 6, 11]| 2 with 12 |\n",
    "| 5 | 9 | 3 | 6 | Yes | 6  | 6 with 19  |[9, 5, 8, 7, 4, 2, 6, 21, 12, 19, 11]| 6 with 19 |\n",
    "\n",
    "\n",
    "Final Step\n",
    "\n",
    "$i+1 = 7$             therefore swop 21 with 11\n",
    " \n",
    "Final Output of Partition = [9, 5, 8, 7, 4, 2, 6, 11, 12, 19, 21]"
   ]
  },
  {
   "cell_type": "markdown",
   "metadata": {},
   "source": [
    "## Check"
   ]
  },
  {
   "cell_type": "code",
   "execution_count": 8,
   "metadata": {},
   "outputs": [
    {
     "name": "stdout",
     "output_type": "stream",
     "text": [
      "Partition\n",
      "[19, 9, 5, 12, 8, 7, 4, 21, 2, 6, 11]\n",
      "[19, 9, 5, 12, 8, 7, 4, 21, 2, 6, 11]\n",
      "[9, 19, 5, 12, 8, 7, 4, 21, 2, 6, 11]\n",
      "[9, 5, 19, 12, 8, 7, 4, 21, 2, 6, 11]\n",
      "[9, 5, 19, 12, 8, 7, 4, 21, 2, 6, 11]\n",
      "[9, 5, 8, 12, 19, 7, 4, 21, 2, 6, 11]\n",
      "[9, 5, 8, 7, 19, 12, 4, 21, 2, 6, 11]\n",
      "[9, 5, 8, 7, 4, 12, 19, 21, 2, 6, 11]\n",
      "[9, 5, 8, 7, 4, 12, 19, 21, 2, 6, 11]\n",
      "[9, 5, 8, 7, 4, 2, 19, 21, 12, 6, 11]\n",
      "[9, 5, 8, 7, 4, 2, 6, 21, 12, 19, 11]\n",
      "[9, 5, 8, 7, 4, 2, 6, 11, 12, 19, 21]\n",
      "\n"
     ]
    },
    {
     "data": {
      "text/plain": [
       "7"
      ]
     },
     "execution_count": 8,
     "metadata": {},
     "output_type": "execute_result"
    }
   ],
   "source": [
    "Partition([19, 9, 5, 12, 8, 7, 4, 21, 2, 6, 11],0,10,printyn=1)"
   ]
  },
  {
   "cell_type": "markdown",
   "metadata": {},
   "source": [
    "## Ex7.1-2 - What value of q does PARTITION return when all elements in the array $ A[p..r] $ have the same value? Modify PARTITION so that $ q = \\lfloor (p+r)/2 \\rfloor$ when all elements in the array $ A[p..r] $ have the same value."
   ]
  },
  {
   "cell_type": "markdown",
   "metadata": {},
   "source": [
    "When all elements of the array have the same value the statement \"array[j]<=x\" is always going to be true as array[j]=x, by definition. Therefore i will keep increasing from -1 to r - 1 in the loop then 1 is added to this value and returned, therefore the final output is r.\n",
    "\n",
    "## Check"
   ]
  },
  {
   "cell_type": "code",
   "execution_count": 10,
   "metadata": {},
   "outputs": [
    {
     "data": {
      "text/plain": [
       "6"
      ]
     },
     "execution_count": 10,
     "metadata": {},
     "output_type": "execute_result"
    }
   ],
   "source": [
    "Partition([19, 19, 19, 19, 19, 19, 19],0,6,printyn=0)"
   ]
  },
  {
   "cell_type": "markdown",
   "metadata": {},
   "source": [
    "## Ex7.1-3 Give a brief argument that the running time of PARTITION on a subarray of size $n$ is $O(n)$."
   ]
  },
  {
   "cell_type": "markdown",
   "metadata": {},
   "source": [
    "There is only one for loop within the algorithm and each of the functions that occur in the algorithm are $O(1)$ therefore time complexity is $O(n)$"
   ]
  },
  {
   "cell_type": "markdown",
   "metadata": {},
   "source": [
    "## Ex7.1-4 How would you modify QUICKSORT to sort into nonincreasing order?"
   ]
  },
  {
   "cell_type": "code",
   "execution_count": null,
   "metadata": {},
   "outputs": [],
   "source": []
  }
 ],
 "metadata": {
  "kernelspec": {
   "display_name": "Python 3",
   "language": "python",
   "name": "python3"
  },
  "language_info": {
   "codemirror_mode": {
    "name": "ipython",
    "version": 3
   },
   "file_extension": ".py",
   "mimetype": "text/x-python",
   "name": "python",
   "nbconvert_exporter": "python",
   "pygments_lexer": "ipython3",
   "version": "3.7.6"
  }
 },
 "nbformat": 4,
 "nbformat_minor": 4
}
